{
 "cells": [
  {
   "cell_type": "markdown",
   "id": "e3da2778",
   "metadata": {},
   "source": [
    "Set 1: [Classifiers]\n",
    "===\n",
    "Task 1\n",
    "---\n",
    "Load cs-training.csv into a Pandas dataframe."
   ]
  },
  {
   "cell_type": "code",
   "execution_count": 126,
   "id": "47c2d189",
   "metadata": {},
   "outputs": [
    {
     "data": {
      "text/html": [
       "<div>\n",
       "<style scoped>\n",
       "    .dataframe tbody tr th:only-of-type {\n",
       "        vertical-align: middle;\n",
       "    }\n",
       "\n",
       "    .dataframe tbody tr th {\n",
       "        vertical-align: top;\n",
       "    }\n",
       "\n",
       "    .dataframe thead th {\n",
       "        text-align: right;\n",
       "    }\n",
       "</style>\n",
       "<table border=\"1\" class=\"dataframe\">\n",
       "  <thead>\n",
       "    <tr style=\"text-align: right;\">\n",
       "      <th></th>\n",
       "      <th>Unnamed: 0</th>\n",
       "      <th>SeriousDlqin2yrs</th>\n",
       "      <th>RevolvingUtilizationOfUnsecuredLines</th>\n",
       "      <th>age</th>\n",
       "      <th>NumberOfTime30-59DaysPastDueNotWorse</th>\n",
       "      <th>DebtRatio</th>\n",
       "      <th>MonthlyIncome</th>\n",
       "      <th>NumberOfOpenCreditLinesAndLoans</th>\n",
       "      <th>NumberOfTimes90DaysLate</th>\n",
       "      <th>NumberRealEstateLoansOrLines</th>\n",
       "      <th>NumberOfTime60-89DaysPastDueNotWorse</th>\n",
       "      <th>NumberOfDependents</th>\n",
       "    </tr>\n",
       "  </thead>\n",
       "  <tbody>\n",
       "    <tr>\n",
       "      <th>0</th>\n",
       "      <td>1</td>\n",
       "      <td>1</td>\n",
       "      <td>0.766127</td>\n",
       "      <td>45</td>\n",
       "      <td>2</td>\n",
       "      <td>0.802982</td>\n",
       "      <td>9120.0</td>\n",
       "      <td>13</td>\n",
       "      <td>0</td>\n",
       "      <td>6</td>\n",
       "      <td>0</td>\n",
       "      <td>2.0</td>\n",
       "    </tr>\n",
       "    <tr>\n",
       "      <th>1</th>\n",
       "      <td>2</td>\n",
       "      <td>0</td>\n",
       "      <td>0.957151</td>\n",
       "      <td>40</td>\n",
       "      <td>0</td>\n",
       "      <td>0.121876</td>\n",
       "      <td>2600.0</td>\n",
       "      <td>4</td>\n",
       "      <td>0</td>\n",
       "      <td>0</td>\n",
       "      <td>0</td>\n",
       "      <td>1.0</td>\n",
       "    </tr>\n",
       "    <tr>\n",
       "      <th>2</th>\n",
       "      <td>3</td>\n",
       "      <td>0</td>\n",
       "      <td>0.658180</td>\n",
       "      <td>38</td>\n",
       "      <td>1</td>\n",
       "      <td>0.085113</td>\n",
       "      <td>3042.0</td>\n",
       "      <td>2</td>\n",
       "      <td>1</td>\n",
       "      <td>0</td>\n",
       "      <td>0</td>\n",
       "      <td>0.0</td>\n",
       "    </tr>\n",
       "    <tr>\n",
       "      <th>3</th>\n",
       "      <td>4</td>\n",
       "      <td>0</td>\n",
       "      <td>0.233810</td>\n",
       "      <td>30</td>\n",
       "      <td>0</td>\n",
       "      <td>0.036050</td>\n",
       "      <td>3300.0</td>\n",
       "      <td>5</td>\n",
       "      <td>0</td>\n",
       "      <td>0</td>\n",
       "      <td>0</td>\n",
       "      <td>0.0</td>\n",
       "    </tr>\n",
       "    <tr>\n",
       "      <th>4</th>\n",
       "      <td>5</td>\n",
       "      <td>0</td>\n",
       "      <td>0.907239</td>\n",
       "      <td>49</td>\n",
       "      <td>1</td>\n",
       "      <td>0.024926</td>\n",
       "      <td>63588.0</td>\n",
       "      <td>7</td>\n",
       "      <td>0</td>\n",
       "      <td>1</td>\n",
       "      <td>0</td>\n",
       "      <td>0.0</td>\n",
       "    </tr>\n",
       "    <tr>\n",
       "      <th>...</th>\n",
       "      <td>...</td>\n",
       "      <td>...</td>\n",
       "      <td>...</td>\n",
       "      <td>...</td>\n",
       "      <td>...</td>\n",
       "      <td>...</td>\n",
       "      <td>...</td>\n",
       "      <td>...</td>\n",
       "      <td>...</td>\n",
       "      <td>...</td>\n",
       "      <td>...</td>\n",
       "      <td>...</td>\n",
       "    </tr>\n",
       "    <tr>\n",
       "      <th>149995</th>\n",
       "      <td>149996</td>\n",
       "      <td>0</td>\n",
       "      <td>0.040674</td>\n",
       "      <td>74</td>\n",
       "      <td>0</td>\n",
       "      <td>0.225131</td>\n",
       "      <td>2100.0</td>\n",
       "      <td>4</td>\n",
       "      <td>0</td>\n",
       "      <td>1</td>\n",
       "      <td>0</td>\n",
       "      <td>0.0</td>\n",
       "    </tr>\n",
       "    <tr>\n",
       "      <th>149996</th>\n",
       "      <td>149997</td>\n",
       "      <td>0</td>\n",
       "      <td>0.299745</td>\n",
       "      <td>44</td>\n",
       "      <td>0</td>\n",
       "      <td>0.716562</td>\n",
       "      <td>5584.0</td>\n",
       "      <td>4</td>\n",
       "      <td>0</td>\n",
       "      <td>1</td>\n",
       "      <td>0</td>\n",
       "      <td>2.0</td>\n",
       "    </tr>\n",
       "    <tr>\n",
       "      <th>149997</th>\n",
       "      <td>149998</td>\n",
       "      <td>0</td>\n",
       "      <td>0.246044</td>\n",
       "      <td>58</td>\n",
       "      <td>0</td>\n",
       "      <td>3870.000000</td>\n",
       "      <td>NaN</td>\n",
       "      <td>18</td>\n",
       "      <td>0</td>\n",
       "      <td>1</td>\n",
       "      <td>0</td>\n",
       "      <td>0.0</td>\n",
       "    </tr>\n",
       "    <tr>\n",
       "      <th>149998</th>\n",
       "      <td>149999</td>\n",
       "      <td>0</td>\n",
       "      <td>0.000000</td>\n",
       "      <td>30</td>\n",
       "      <td>0</td>\n",
       "      <td>0.000000</td>\n",
       "      <td>5716.0</td>\n",
       "      <td>4</td>\n",
       "      <td>0</td>\n",
       "      <td>0</td>\n",
       "      <td>0</td>\n",
       "      <td>0.0</td>\n",
       "    </tr>\n",
       "    <tr>\n",
       "      <th>149999</th>\n",
       "      <td>150000</td>\n",
       "      <td>0</td>\n",
       "      <td>0.850283</td>\n",
       "      <td>64</td>\n",
       "      <td>0</td>\n",
       "      <td>0.249908</td>\n",
       "      <td>8158.0</td>\n",
       "      <td>8</td>\n",
       "      <td>0</td>\n",
       "      <td>2</td>\n",
       "      <td>0</td>\n",
       "      <td>0.0</td>\n",
       "    </tr>\n",
       "  </tbody>\n",
       "</table>\n",
       "<p>150000 rows × 12 columns</p>\n",
       "</div>"
      ],
      "text/plain": [
       "        Unnamed: 0  SeriousDlqin2yrs  RevolvingUtilizationOfUnsecuredLines  \\\n",
       "0                1                 1                              0.766127   \n",
       "1                2                 0                              0.957151   \n",
       "2                3                 0                              0.658180   \n",
       "3                4                 0                              0.233810   \n",
       "4                5                 0                              0.907239   \n",
       "...            ...               ...                                   ...   \n",
       "149995      149996                 0                              0.040674   \n",
       "149996      149997                 0                              0.299745   \n",
       "149997      149998                 0                              0.246044   \n",
       "149998      149999                 0                              0.000000   \n",
       "149999      150000                 0                              0.850283   \n",
       "\n",
       "        age  NumberOfTime30-59DaysPastDueNotWorse    DebtRatio  MonthlyIncome  \\\n",
       "0        45                                     2     0.802982         9120.0   \n",
       "1        40                                     0     0.121876         2600.0   \n",
       "2        38                                     1     0.085113         3042.0   \n",
       "3        30                                     0     0.036050         3300.0   \n",
       "4        49                                     1     0.024926        63588.0   \n",
       "...     ...                                   ...          ...            ...   \n",
       "149995   74                                     0     0.225131         2100.0   \n",
       "149996   44                                     0     0.716562         5584.0   \n",
       "149997   58                                     0  3870.000000            NaN   \n",
       "149998   30                                     0     0.000000         5716.0   \n",
       "149999   64                                     0     0.249908         8158.0   \n",
       "\n",
       "        NumberOfOpenCreditLinesAndLoans  NumberOfTimes90DaysLate  \\\n",
       "0                                    13                        0   \n",
       "1                                     4                        0   \n",
       "2                                     2                        1   \n",
       "3                                     5                        0   \n",
       "4                                     7                        0   \n",
       "...                                 ...                      ...   \n",
       "149995                                4                        0   \n",
       "149996                                4                        0   \n",
       "149997                               18                        0   \n",
       "149998                                4                        0   \n",
       "149999                                8                        0   \n",
       "\n",
       "        NumberRealEstateLoansOrLines  NumberOfTime60-89DaysPastDueNotWorse  \\\n",
       "0                                  6                                     0   \n",
       "1                                  0                                     0   \n",
       "2                                  0                                     0   \n",
       "3                                  0                                     0   \n",
       "4                                  1                                     0   \n",
       "...                              ...                                   ...   \n",
       "149995                             1                                     0   \n",
       "149996                             1                                     0   \n",
       "149997                             1                                     0   \n",
       "149998                             0                                     0   \n",
       "149999                             2                                     0   \n",
       "\n",
       "        NumberOfDependents  \n",
       "0                      2.0  \n",
       "1                      1.0  \n",
       "2                      0.0  \n",
       "3                      0.0  \n",
       "4                      0.0  \n",
       "...                    ...  \n",
       "149995                 0.0  \n",
       "149996                 2.0  \n",
       "149997                 0.0  \n",
       "149998                 0.0  \n",
       "149999                 0.0  \n",
       "\n",
       "[150000 rows x 12 columns]"
      ]
     },
     "execution_count": 126,
     "metadata": {},
     "output_type": "execute_result"
    }
   ],
   "source": [
    "import pandas as pd\n",
    "cs_training = pd.read_csv(\"D:/课程学习资料/研一M3/Machine Learning for Finance/Homeworks/Set 1/archive/cs-training.csv\")\n",
    "cs_training"
   ]
  },
  {
   "cell_type": "markdown",
   "id": "3f8a1de3",
   "metadata": {},
   "source": [
    "Task 2\n",
    "---\n",
    "Fill-in the missing values (nan) with the column means. (Use pd.fillna() or See Ch 4 of PML)"
   ]
  },
  {
   "cell_type": "code",
   "execution_count": 127,
   "id": "63577011",
   "metadata": {},
   "outputs": [
    {
     "data": {
      "text/plain": [
       "Unnamed: 0                                  0\n",
       "SeriousDlqin2yrs                            0\n",
       "RevolvingUtilizationOfUnsecuredLines        0\n",
       "age                                         0\n",
       "NumberOfTime30-59DaysPastDueNotWorse        0\n",
       "DebtRatio                                   0\n",
       "MonthlyIncome                           29731\n",
       "NumberOfOpenCreditLinesAndLoans             0\n",
       "NumberOfTimes90DaysLate                     0\n",
       "NumberRealEstateLoansOrLines                0\n",
       "NumberOfTime60-89DaysPastDueNotWorse        0\n",
       "NumberOfDependents                       3924\n",
       "dtype: int64"
      ]
     },
     "execution_count": 127,
     "metadata": {},
     "output_type": "execute_result"
    }
   ],
   "source": [
    "# identifying missing values\n",
    "cs_training.isnull().sum()"
   ]
  },
  {
   "cell_type": "code",
   "execution_count": 128,
   "id": "5f7da671",
   "metadata": {},
   "outputs": [],
   "source": [
    "# fill-in the missing values using the column means\n",
    "cs_training_new = cs_training.fillna(cs_training.mean())"
   ]
  },
  {
   "cell_type": "code",
   "execution_count": 129,
   "id": "8bc4e238",
   "metadata": {},
   "outputs": [
    {
     "data": {
      "text/plain": [
       "Unnamed: 0                              0\n",
       "SeriousDlqin2yrs                        0\n",
       "RevolvingUtilizationOfUnsecuredLines    0\n",
       "age                                     0\n",
       "NumberOfTime30-59DaysPastDueNotWorse    0\n",
       "DebtRatio                               0\n",
       "MonthlyIncome                           0\n",
       "NumberOfOpenCreditLinesAndLoans         0\n",
       "NumberOfTimes90DaysLate                 0\n",
       "NumberRealEstateLoansOrLines            0\n",
       "NumberOfTime60-89DaysPastDueNotWorse    0\n",
       "NumberOfDependents                      0\n",
       "dtype: int64"
      ]
     },
     "execution_count": 129,
     "metadata": {},
     "output_type": "execute_result"
    }
   ],
   "source": [
    "# have a double check\n",
    "cs_training_new.isnull().sum()\n",
    "# It works!"
   ]
  },
  {
   "cell_type": "markdown",
   "id": "0cef8a5e",
   "metadata": {},
   "source": [
    "Task 3\n",
    "---\n",
    "Select the 2 most important features using LogisticRegression with L1 penalty. (Adjust C until you see 2 features)"
   ]
  },
  {
   "cell_type": "code",
   "execution_count": 130,
   "id": "98900348",
   "metadata": {},
   "outputs": [],
   "source": [
    "# firstly, let's standardize the training features!\n",
    "from sklearn.preprocessing import StandardScaler\n",
    "X_train = cs_training_new.iloc[:,list(range(2,12))]\n",
    "sc = StandardScaler()\n",
    "sc.fit(X_train)\n",
    "X_train_std = sc.transform(X_train)\n",
    "Y_train = cs_training_new.iloc[:,1]"
   ]
  },
  {
   "cell_type": "code",
   "execution_count": 131,
   "id": "a4054ffb",
   "metadata": {},
   "outputs": [
    {
     "data": {
      "text/plain": [
       "array([[ 0.        , -0.20223382,  0.09574063,  0.        ,  0.        ,\n",
       "         0.        ,  0.        ,  0.        ,  0.        ,  0.        ]])"
      ]
     },
     "execution_count": 131,
     "metadata": {},
     "output_type": "execute_result"
    }
   ],
   "source": [
    "# next, let's train our model. so excited ：）\n",
    "from sklearn.linear_model import LogisticRegression\n",
    "# after trying a lot of values of C，I find that 0.0005 works well！\n",
    "lr = LogisticRegression(penalty='l1',C=0.0005,solver='liblinear',multi_class='ovr')\n",
    "lr.fit(X_train_std,Y_train)\n",
    "lr.coef_\n",
    "# so the two most important features are age and NumberOfTime30-59DaysPastDueNotWorse\n",
    "# in fact, these two features make sense given that: \n",
    "# (1) older people have poor competence to make money (in a general case)\n",
    "# (2) people who do not make the overdue more worse could be turst."
   ]
  },
  {
   "cell_type": "markdown",
   "id": "bdbbaf0e",
   "metadata": {},
   "source": [
    "Task 4\n",
    "---\n",
    "Using the 2 selected features, apply LR / SVM / decision tree. Try your own hyperparameters (C, gamma, tree depth, etc) to maximize the prediction accuracy. (Just try several values. You don't need to show your answer is the maximum.)"
   ]
  },
  {
   "cell_type": "code",
   "execution_count": 132,
   "id": "cee73629",
   "metadata": {},
   "outputs": [],
   "source": [
    "# data preparation\n",
    "# (1)train data and standardization\n",
    "X_train_task4 = cs_training_new.iloc[:,[3,4]]\n",
    "sc.fit(X_train_task4)\n",
    "X_train_task4_std = sc.transform(X_train_task4)\n",
    "Y_train_task4 = cs_training_new.iloc[:,[1]]\n",
    "\n",
    "# (2)test data\n",
    "cs_test = pd.read_csv(\"D:/课程学习资料/研一M3/Machine Learning for Finance/Homeworks/Set 1/archive/cs-test.csv\")\n",
    "X_test_task4 = cs_test.iloc[:,[3,4]]\n",
    "sc.fit(X_test_task4)\n",
    "X_test_task4_std = sc.transform(X_test_task4)\n",
    "\n",
    "Y_test_task4 = pd.read_csv(\"D:/课程学习资料/研一M3/Machine Learning for Finance/Homeworks/Set 1/archive/sampleEntry.csv\")\n",
    "# sampleEntry.csv provides the probability. to calculate the accuracy, I plan to transform the probability to the 0-1 binary value.\n",
    "# my standard is as follows.\n",
    "# if the probability is no less than 0.5, then I transform it to 1. If not, then I transform it to 0.\n",
    "Y_test_task4.loc[Y_test_task4[Y_test_task4['Probability']>=0.5].index,'Probability']=1\n",
    "Y_test_task4.loc[Y_test_task4[Y_test_task4['Probability']<0.5].index,'Probability']=0\n",
    "Y_test_task4 = Y_test_task4['Probability']\n",
    "Y_test_task4 = pd.DataFrame(Y_test_task4)"
   ]
  },
  {
   "cell_type": "code",
   "execution_count": 133,
   "id": "4a6f3228",
   "metadata": {},
   "outputs": [
    {
     "data": {
      "text/plain": [
       "<matplotlib.legend.Legend at 0x129a0258850>"
      ]
     },
     "execution_count": 133,
     "metadata": {},
     "output_type": "execute_result"
    },
    {
     "data": {
      "image/png": "[encoded data removed]",
      "text/plain": [
       "<Figure size 432x288 with 1 Axes>"
      ]
     },
     "metadata": {
      "needs_background": "light"
     },
     "output_type": "display_data"
    }
   ],
   "source": [
    "# visualize the data\n",
    "import matplotlib.pyplot as plt\n",
    "plt.scatter(cs_training_new.query('SeriousDlqin2yrs==1').iloc[:,3],cs_training_new.query('SeriousDlqin2yrs==1').iloc[:,4],\n",
    "           color='red', marker='o', label='Credit Bad')\n",
    "plt.scatter(cs_training_new.query('SeriousDlqin2yrs==0').iloc[:,3],cs_training_new.query('SeriousDlqin2yrs==0').iloc[:,4],\n",
    "           color='blue', marker='x', label='Credit Not too Bad ')\n",
    "plt.xlabel('age[non-strandardization]')\n",
    "plt.ylabel('PastDueNotWorse[non-strandardization]')\n",
    "plt.legend(loc='center right')"
   ]
  },
  {
   "cell_type": "markdown",
   "id": "4e9d07d3",
   "metadata": {},
   "source": [
    "Task 4.1 Apply LR\n",
    "---"
   ]
  },
  {
   "cell_type": "code",
   "execution_count": 172,
   "id": "c1df5c99",
   "metadata": {},
   "outputs": [
    {
     "name": "stdout",
     "output_type": "stream",
     "text": [
      "[0.98320246692216, 0.98320246692216, 0.9833896535077781, 0.9836359516467493] [1e-05, 0.0001, 0.001, 0.01]\n"
     ]
    }
   ],
   "source": [
    "#apply LR and maximize the prediction accuracy\n",
    "from sklearn.metrics import accuracy_score\n",
    "accuracy, params = [], []\n",
    "for c in range(-5, -1):\n",
    "    lr = LogisticRegression(penalty='l1',C=10.**c,solver='liblinear',multi_class='ovr')\n",
    "    lr.fit(X_train_task4_std, Y_train_task4.values.ravel())\n",
    "    Y_prediction_task4 = lr.predict(X_test_task4_std)\n",
    "    accuracy.append(accuracy_score(Y_test_task4,Y_prediction_task4))\n",
    "    params.append(10.**c)\n",
    "print(accuracy,params)\n",
    "# According to the accuracy, the optimal value of C is 0.01"
   ]
  },
  {
   "cell_type": "markdown",
   "id": "53d18f5f",
   "metadata": {},
   "source": [
    "Task 4.2 Apply SVM\n",
    "---"
   ]
  },
  {
   "cell_type": "code",
   "execution_count": 177,
   "id": "9ca86db0",
   "metadata": {},
   "outputs": [
    {
     "name": "stderr",
     "output_type": "stream",
     "text": [
      "D:\\anaconda\\lib\\site-packages\\sklearn\\svm\\_base.py:284: ConvergenceWarning: Solver terminated early (max_iter=1000).  Consider pre-processing your data with StandardScaler or MinMaxScaler.\n",
      "  warnings.warn(\n",
      "D:\\anaconda\\lib\\site-packages\\sklearn\\svm\\_base.py:284: ConvergenceWarning: Solver terminated early (max_iter=1000).  Consider pre-processing your data with StandardScaler or MinMaxScaler.\n",
      "  warnings.warn(\n",
      "D:\\anaconda\\lib\\site-packages\\sklearn\\svm\\_base.py:284: ConvergenceWarning: Solver terminated early (max_iter=1000).  Consider pre-processing your data with StandardScaler or MinMaxScaler.\n",
      "  warnings.warn(\n",
      "D:\\anaconda\\lib\\site-packages\\sklearn\\svm\\_base.py:284: ConvergenceWarning: Solver terminated early (max_iter=1000).  Consider pre-processing your data with StandardScaler or MinMaxScaler.\n",
      "  warnings.warn(\n",
      "D:\\anaconda\\lib\\site-packages\\sklearn\\svm\\_base.py:284: ConvergenceWarning: Solver terminated early (max_iter=1000).  Consider pre-processing your data with StandardScaler or MinMaxScaler.\n",
      "  warnings.warn(\n",
      "D:\\anaconda\\lib\\site-packages\\sklearn\\svm\\_base.py:284: ConvergenceWarning: Solver terminated early (max_iter=1000).  Consider pre-processing your data with StandardScaler or MinMaxScaler.\n",
      "  warnings.warn(\n",
      "D:\\anaconda\\lib\\site-packages\\sklearn\\svm\\_base.py:284: ConvergenceWarning: Solver terminated early (max_iter=1000).  Consider pre-processing your data with StandardScaler or MinMaxScaler.\n",
      "  warnings.warn(\n",
      "D:\\anaconda\\lib\\site-packages\\sklearn\\svm\\_base.py:284: ConvergenceWarning: Solver terminated early (max_iter=1000).  Consider pre-processing your data with StandardScaler or MinMaxScaler.\n",
      "  warnings.warn(\n",
      "D:\\anaconda\\lib\\site-packages\\sklearn\\svm\\_base.py:284: ConvergenceWarning: Solver terminated early (max_iter=1000).  Consider pre-processing your data with StandardScaler or MinMaxScaler.\n",
      "  warnings.warn(\n"
     ]
    },
    {
     "name": "stdout",
     "output_type": "stream",
     "text": [
      "[0.016364048353250643, 0.016364048353250643, 0.016364048353250643, 0.016364048353250643, 0.016797533077840064, 0.9837640266790144, 0.01695516388678167, 0.9840989921480153, 0.9841778075524862] [[0.01, 0.01], [0.01, 0.1], [0.01, 1.0], [0.1, 0.01], [0.1, 0.1], [0.1, 1.0], [1.0, 0.01], [1.0, 0.1], [1.0, 1.0]]\n"
     ]
    }
   ],
   "source": [
    "#apply SVM and maximize the prediction accuracy\n",
    "from sklearn.svm import SVC\n",
    "accuracy, params = [], []\n",
    "for a in range(-2,1):\n",
    "    for b in range(-2,1):\n",
    "        svm = SVC(kernel='poly', random_state=1, gamma=10.**a, C=10.**b,max_iter = 1000) # it takes a long time to converge.\n",
    "        svm.fit(X_train_task4_std, Y_train_task4.values.ravel())\n",
    "        Y_prediction_task4 = svm.predict(X_test_task4_std)\n",
    "        accuracy.append(accuracy_score(Y_test_task4,Y_prediction_task4))\n",
    "        params.append([10.**a,10.**b])\n",
    "print(accuracy,params)\n",
    "# According to the accuracy, the optimal values of gamma and C are 1 and 1"
   ]
  },
  {
   "cell_type": "markdown",
   "id": "b45ca0d0",
   "metadata": {},
   "source": [
    "Task 4.3 Apply decision tree\n",
    "---"
   ]
  },
  {
   "cell_type": "code",
   "execution_count": 170,
   "id": "c83e3dd1",
   "metadata": {},
   "outputs": [
    {
     "name": "stdout",
     "output_type": "stream",
     "text": [
      "[0.98320246692216, 0.98320246692216, 0.98320246692216, 0.98320246692216, 0.9822960897707457, 0.9839512132646325, 0.9833009861777484, 0.9832221707732777, 0.9830349841876594] [1, 2, 3, 4, 5, 6, 7, 8, 9]\n"
     ]
    }
   ],
   "source": [
    "#apply decision tree and maximize the prediction accuracy\n",
    "from sklearn.tree import DecisionTreeClassifier\n",
    "accuracy, params = [], []\n",
    "for d in range(1,10):\n",
    "    tree_model = DecisionTreeClassifier(criterion='gini',max_depth=d,random_state=1)\n",
    "    tree_model.fit(X_train_task4_std, Y_train_task4.values.ravel())\n",
    "    Y_prediction_task4 = tree_model.predict(X_test_task4_std)\n",
    "    accuracy.append(accuracy_score(Y_test_task4,Y_prediction_task4))\n",
    "    params.append(d)\n",
    "print(accuracy,params)\n",
    "# According to the accuracy, the optimal value of max_depth is 6"
   ]
  },
  {
   "cell_type": "markdown",
   "id": "39ad3ed0",
   "metadata": {},
   "source": [
    "Task 5\n",
    "---\n",
    "Visualize your classifiers using the plot_decision_regions function from PML Ch. 3"
   ]
  },
  {
   "cell_type": "code",
   "execution_count": 135,
   "id": "1ed5415a",
   "metadata": {},
   "outputs": [],
   "source": [
    "# define the plot_decision according to PML ch.3\n",
    "from matplotlib.colors import ListedColormap\n",
    "import matplotlib.pyplot as plt\n",
    "import numpy as np\n",
    "\n",
    "# To check recent matplotlib compatibility\n",
    "import matplotlib\n",
    "from distutils.version import LooseVersion\n",
    "\n",
    "\n",
    "def plot_decision_regions(X, y, classifier, test_idx=None, resolution=0.02):\n",
    "\n",
    "    # setup marker generator and color map\n",
    "    markers = ('s', 'x', 'o', '^', 'v')\n",
    "    colors = ('red', 'blue', 'lightgreen', 'gray', 'cyan')\n",
    "    cmap = ListedColormap(colors[:len(np.unique(y))])\n",
    "\n",
    "    # plot the decision surface\n",
    "    x1_min, x1_max = X[:, 0].min() - 1, X[:, 0].max() + 1\n",
    "    x2_min, x2_max = X[:, 1].min() - 1, X[:, 1].max() + 1\n",
    "    xx1, xx2 = np.meshgrid(np.arange(x1_min, x1_max, resolution),\n",
    "                           np.arange(x2_min, x2_max, resolution))\n",
    "    Z = classifier.predict(np.array([xx1.ravel(), xx2.ravel()]).T)\n",
    "    Z = Z.reshape(xx1.shape)\n",
    "    plt.contourf(xx1, xx2, Z, alpha=0.3, cmap=cmap)\n",
    "    plt.xlim(xx1.min(), xx1.max())\n",
    "    plt.ylim(xx2.min(), xx2.max())\n",
    "\n",
    "    for idx, cl in enumerate(np.unique(y)):\n",
    "        plt.scatter(x=X[y == cl, 0], \n",
    "                    y=X[y == cl, 1],\n",
    "                    alpha=0.8, \n",
    "                    color=colors[idx],\n",
    "                    marker=markers[idx], \n",
    "                    label=cl, \n",
    "                    edgecolor='black')\n",
    "\n",
    "    # highlight test examples\n",
    "    if test_idx:\n",
    "        # plot all examples\n",
    "        X_test, y_test = X[test_idx, :], y[test_idx]\n",
    "\n",
    "        \n",
    "        if LooseVersion(matplotlib.__version__) < LooseVersion('0.3.4'):\n",
    "            plt.scatter(X_test[:, 0],\n",
    "                        X_test[:, 1],\n",
    "                        c='',\n",
    "                        edgecolor='black',\n",
    "                        alpha=1.0,\n",
    "                        linewidth=1,\n",
    "                        marker='o',\n",
    "                        s=100, \n",
    "                        label='test set')\n",
    "        else:\n",
    "            plt.scatter(X_test[:, 0],\n",
    "                        X_test[:, 1],\n",
    "                        c='none',\n",
    "                        edgecolor='black',\n",
    "                        alpha=1.0,\n",
    "                        linewidth=1,\n",
    "                        marker='o',\n",
    "                        s=100, \n",
    "                        label='test set')        "
   ]
  },
  {
   "cell_type": "markdown",
   "id": "32abdd21",
   "metadata": {},
   "source": [
    "Task 5.1 Visualize the classifiers using LR \n",
    "---"
   ]
  },
  {
   "cell_type": "code",
   "execution_count": 173,
   "id": "cb88b26d",
   "metadata": {},
   "outputs": [
    {
     "name": "stderr",
     "output_type": "stream",
     "text": [
      "C:\\Users\\Eason Cheung\\AppData\\Local\\Temp\\ipykernel_33772\\4038726159.py:30: UserWarning: You passed a edgecolor/edgecolors ('black') for an unfilled marker ('x').  Matplotlib is ignoring the edgecolor in favor of the facecolor.  This behavior may change in the future.\n",
      "  plt.scatter(x=X[y == cl, 0],\n"
     ]
    },
    {
     "data": {
      "text/plain": [
       "<matplotlib.legend.Legend at 0x129aa82c160>"
      ]
     },
     "execution_count": 173,
     "metadata": {},
     "output_type": "execute_result"
    },
    {
     "data": {
      "image/png": "[encoded data removed]",
      "text/plain": [
       "<Figure size 432x288 with 1 Axes>"
      ]
     },
     "metadata": {
      "needs_background": "light"
     },
     "output_type": "display_data"
    }
   ],
   "source": [
    "lr = LogisticRegression(penalty='l1',C=0.01,solver='liblinear',multi_class='ovr')\n",
    "lr.fit(X_train_task4_std, Y_train_task4.values.ravel())\n",
    "plot_decision_regions(X_train_task4_std, Y_train_task4.values.ravel(), lr)\n",
    "plt.xlabel('age[strandardization]')\n",
    "plt.ylabel('PastDueNotWorse[strandardization]')\n",
    "plt.legend(loc='center right')"
   ]
  },
  {
   "cell_type": "markdown",
   "id": "b659ac4c",
   "metadata": {},
   "source": [
    "Task 5.2 Visualize the classifiers using SVM\n",
    "---"
   ]
  },
  {
   "cell_type": "code",
   "execution_count": 178,
   "id": "350d5674",
   "metadata": {},
   "outputs": [
    {
     "name": "stderr",
     "output_type": "stream",
     "text": [
      "C:\\Users\\Eason Cheung\\AppData\\Local\\Temp\\ipykernel_33772\\4038726159.py:30: UserWarning: You passed a edgecolor/edgecolors ('black') for an unfilled marker ('x').  Matplotlib is ignoring the edgecolor in favor of the facecolor.  This behavior may change in the future.\n",
      "  plt.scatter(x=X[y == cl, 0],\n"
     ]
    },
    {
     "data": {
      "text/plain": [
       "<matplotlib.legend.Legend at 0x129aa8a9af0>"
      ]
     },
     "execution_count": 178,
     "metadata": {},
     "output_type": "execute_result"
    },
    {
     "data": {
      "image/png": "[encoded data removed]",
      "text/plain": [
       "<Figure size 432x288 with 1 Axes>"
      ]
     },
     "metadata": {
      "needs_background": "light"
     },
     "output_type": "display_data"
    }
   ],
   "source": [
    "plot_decision_regions(X_train_task4_std, Y_train_task4.values.ravel(), svm)\n",
    "plt.xlabel('age[strandardization]')\n",
    "plt.ylabel('PastDueNotWorse[strandardization]')\n",
    "plt.legend(loc='center right')"
   ]
  },
  {
   "cell_type": "markdown",
   "id": "cb6e43b6",
   "metadata": {},
   "source": [
    "Task 5.3 Visualize the classifiers using decision tree\n",
    "---"
   ]
  },
  {
   "cell_type": "code",
   "execution_count": 174,
   "id": "3af83a94",
   "metadata": {},
   "outputs": [
    {
     "name": "stderr",
     "output_type": "stream",
     "text": [
      "C:\\Users\\Eason Cheung\\AppData\\Local\\Temp\\ipykernel_33772\\4038726159.py:30: UserWarning: You passed a edgecolor/edgecolors ('black') for an unfilled marker ('x').  Matplotlib is ignoring the edgecolor in favor of the facecolor.  This behavior may change in the future.\n",
      "  plt.scatter(x=X[y == cl, 0],\n"
     ]
    },
    {
     "data": {
      "text/plain": [
       "<matplotlib.legend.Legend at 0x1299b3f78b0>"
      ]
     },
     "execution_count": 174,
     "metadata": {},
     "output_type": "execute_result"
    },
    {
     "data": {
      "image/png": "[encoded data removed]",
      "text/plain": [
       "<Figure size 432x288 with 1 Axes>"
      ]
     },
     "metadata": {
      "needs_background": "light"
     },
     "output_type": "display_data"
    }
   ],
   "source": [
    "tree_model = DecisionTreeClassifier(criterion='gini',max_depth=6,random_state=1)\n",
    "tree_model.fit(X_train_task4_std, Y_train_task4.values.ravel())\n",
    "plot_decision_regions(X_train_task4_std, Y_train_task4.values.ravel(), tree_model)\n",
    "plt.xlabel('age[strandardization]')\n",
    "plt.ylabel('PastDueNotWorse[strandardization]')\n",
    "plt.legend(loc='center right')"
   ]
  }
 ],
 "metadata": {
  "kernelspec": {
   "display_name": "Python 3 (ipykernel)",
   "language": "python",
   "name": "python3"
  },
  "language_info": {
   "codemirror_mode": {
    "name": "ipython",
    "version": 3
   },
   "file_extension": ".py",
   "mimetype": "text/x-python",
   "name": "python",
   "nbconvert_exporter": "python",
   "pygments_lexer": "ipython3",
   "version": "3.9.12"
  }
 },
 "nbformat": 4,
 "nbformat_minor": 5
}
