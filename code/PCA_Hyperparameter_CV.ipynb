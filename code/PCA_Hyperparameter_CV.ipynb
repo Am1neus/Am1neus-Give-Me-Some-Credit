{
 "cells": [
  {
   "cell_type": "markdown",
   "id": "0364abe2",
   "metadata": {},
   "source": [
    "Set 2: [PCA/Hyperparameter/CV]\n",
    "=="
   ]
  },
  {
   "cell_type": "markdown",
   "id": "5863981e",
   "metadata": {},
   "source": [
    "Task 0\n",
    "---\n",
    "Data preparation"
   ]
  },
  {
   "cell_type": "code",
   "execution_count": 1,
   "id": "96f3bdfe",
   "metadata": {},
   "outputs": [],
   "source": [
    "import pandas as pd\n",
    "# training data import\n",
    "cs_training = pd.read_csv(\"D:/课程学习资料/研一M3/Machine Learning for Finance/Homeworks/Set 1/archive/cs-training.csv\")\n",
    "# fill-in the missing values using the column means\n",
    "cs_training = cs_training.fillna(cs_training.mean())\n",
    "# X_train Y_train\n",
    "from sklearn.preprocessing import StandardScaler\n",
    "X_train = cs_training.iloc[:,list(range(2,12))]\n",
    "Y_train = cs_training.iloc[:,1]"
   ]
  },
  {
   "cell_type": "markdown",
   "id": "3924ecd9",
   "metadata": {},
   "source": [
    "Task 1\n",
    "--\n",
    "Extract a few (>2) features using PCA method.\n",
    "\n",
    "Using the selected features from above, we are going to apply LR / SVM / decision tree (or any other algorithm).\n",
    "\n",
    "Implement the methods using pipeline. (PML p185)\n",
    "\n",
    "Use grid search for finding optimal hyperparameters. (PML p199). In the search, apply 5-fold cross-validation.\n",
    "\n",
    "**To complete the Task, I will combine pipeline and grid search together.**"
   ]
  },
  {
   "cell_type": "markdown",
   "id": "433daf29",
   "metadata": {},
   "source": [
    "Task 1.1\n",
    "---\n",
    "PCA + LR"
   ]
  },
  {
   "cell_type": "code",
   "execution_count": 2,
   "id": "2c6ef2dc",
   "metadata": {},
   "outputs": [
    {
     "name": "stdout",
     "output_type": "stream",
     "text": [
      "0.9333266666666666\n",
      "{'logisticregression__C': 0.0001, 'logisticregression__penalty': 'l2', 'logisticregression__solver': 'lbfgs', 'pca__n_components': 3}\n"
     ]
    }
   ],
   "source": [
    "from sklearn.decomposition import PCA\n",
    "from sklearn.linear_model import LogisticRegression\n",
    "from sklearn.pipeline import make_pipeline\n",
    "from sklearn.model_selection import GridSearchCV\n",
    "\n",
    "pipe_lr = make_pipeline(StandardScaler(),\n",
    "                        PCA(),\n",
    "                        LogisticRegression(random_state=1))\n",
    "\n",
    "param_range = [0.0001, 0.001, 0.01, 0.1, 1.0, 10.0, 100.0, 1000.0]\n",
    "\n",
    "n_components=[3,4,5,6]\n",
    "\n",
    "param_grid = [{'logisticregression__penalty': ['l1'], \n",
    "               'logisticregression__C': param_range,\n",
    "               'logisticregression__solver':['liblinear'],\n",
    "               'pca__n_components':n_components},\n",
    "              {'logisticregression__penalty': ['l2'], \n",
    "               'logisticregression__C': param_range,\n",
    "               'logisticregression__solver':['lbfgs'],\n",
    "               'pca__n_components':n_components}]\n",
    "\n",
    "gs = GridSearchCV(estimator=pipe_lr, \n",
    "                  param_grid=param_grid, \n",
    "                  scoring='accuracy', \n",
    "                  refit=True,\n",
    "                  cv=5,\n",
    "                  n_jobs =-1)\n",
    "\n",
    "gs = gs.fit(X_train, Y_train)\n",
    "\n",
    "print(gs.best_score_)\n",
    "print(gs.best_params_)"
   ]
  },
  {
   "cell_type": "markdown",
   "id": "06bb734c",
   "metadata": {},
   "source": [
    "Task 1.2\n",
    "---\n",
    "PCA + SVM\n",
    "\n",
    "**In fact, it is hard to converge, so I have to reduce the number of hyperparameter and max_inter.**"
   ]
  },
  {
   "cell_type": "code",
   "execution_count": 48,
   "id": "63efd794",
   "metadata": {},
   "outputs": [
    {
     "name": "stdout",
     "output_type": "stream",
     "text": [
      "0.7599933333333333\n",
      "{'pca__n_components': 4, 'svc__C': 0.001, 'svc__kernel': 'linear'}\n"
     ]
    }
   ],
   "source": [
    "import warnings\n",
    "warnings.filterwarnings(\"ignore\")\n",
    "from sklearn.svm import SVC\n",
    "pipe_svc = make_pipeline(StandardScaler(),\n",
    "                         PCA(),\n",
    "                         SVC(random_state=1, max_iter = 1000)) \n",
    "\n",
    "param_range = [0.001, 0.01, 0.1]\n",
    "\n",
    "n_components=[3,4]\n",
    "\n",
    "param_grid = [{'svc__C': param_range, \n",
    "               'svc__kernel': ['linear'],\n",
    "               'pca__n_components':n_components},\n",
    "              {'svc__C': param_range, \n",
    "               'svc__gamma': param_range, \n",
    "               'svc__kernel': ['rbf'],\n",
    "               'pca__n_components':n_components}]\n",
    "\n",
    "gs = GridSearchCV(estimator=pipe_svc, \n",
    "                  param_grid=param_grid, \n",
    "                  scoring='accuracy', \n",
    "                  refit=True,\n",
    "                  cv=5)\n",
    "\n",
    "gs = gs.fit(X_train, Y_train)\n",
    "\n",
    "print(gs.best_score_)\n",
    "print(gs.best_params_)"
   ]
  },
  {
   "cell_type": "markdown",
   "id": "93fe701d",
   "metadata": {},
   "source": [
    "Task 1.3\n",
    "---\n",
    "PCA + decision tree"
   ]
  },
  {
   "cell_type": "code",
   "execution_count": 53,
   "id": "00898251",
   "metadata": {},
   "outputs": [
    {
     "name": "stdout",
     "output_type": "stream",
     "text": [
      "0.9361\n",
      "{'decisiontreeclassifier__max_depth': 4, 'pca__n_components': 3}\n"
     ]
    }
   ],
   "source": [
    "from sklearn.tree import DecisionTreeClassifier\n",
    "\n",
    "pipe_tree = make_pipeline(StandardScaler(),\n",
    "                 PCA(),\n",
    "                 DecisionTreeClassifier(random_state=0,criterion='gini'))\n",
    "                 \n",
    "n_components=[3,4,5,6]\n",
    "\n",
    "param_grid=[{'decisiontreeclassifier__max_depth': [1, 2, 3, 4, 5, 6, 7, None],\n",
    "             'pca__n_components':n_components}]\n",
    "\n",
    "gs = GridSearchCV(estimator=pipe_tree,\n",
    "                  param_grid=param_grid,\n",
    "                  scoring='accuracy',\n",
    "                  cv=5)\n",
    "\n",
    "gs = gs.fit(X_train, Y_train)\n",
    "\n",
    "print(gs.best_score_)\n",
    "print(gs.best_params_)"
   ]
  }
 ],
 "metadata": {
  "kernelspec": {
   "display_name": "Python 3 (ipykernel)",
   "language": "python",
   "name": "python3"
  },
  "language_info": {
   "codemirror_mode": {
    "name": "ipython",
    "version": 3
   },
   "file_extension": ".py",
   "mimetype": "text/x-python",
   "name": "python",
   "nbconvert_exporter": "python",
   "pygments_lexer": "ipython3",
   "version": "3.9.12"
  }
 },
 "nbformat": 4,
 "nbformat_minor": 5
}
